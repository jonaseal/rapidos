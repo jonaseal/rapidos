{
  "nbformat": 4,
  "nbformat_minor": 0,
  "metadata": {
    "colab": {
      "name": "edujob.ipynb",
      "provenance": [],
      "authorship_tag": "ABX9TyNSVcLep1Zxxo/QRyghgnRL",
      "include_colab_link": true
    },
    "kernelspec": {
      "name": "python3",
      "display_name": "Python 3"
    },
    "language_info": {
      "name": "python"
    }
  },
  "cells": [
    {
      "cell_type": "markdown",
      "metadata": {
        "id": "view-in-github",
        "colab_type": "text"
      },
      "source": [
        "<a href=\"https://colab.research.google.com/github/jonaseal/rapidos/blob/main/edujob.ipynb\" target=\"_parent\"><img src=\"https://colab.research.google.com/assets/colab-badge.svg\" alt=\"Open In Colab\"/></a>"
      ]
    },
    {
      "cell_type": "code",
      "execution_count": null,
      "metadata": {
        "id": "HYvqG0A6w2XJ"
      },
      "outputs": [],
      "source": [
        "import requests\n",
        "import json\n",
        "import sys\n",
        "\n",
        "url = 'https://www.w3schools.com/python/demopage.php'\n",
        "objeto = objeto = {\n",
        "\t\"cadastrarvaga\": [\n",
        "\t  {\n",
        "\t\t\"id\": 1,\n",
        "\t\t\"dadosdaempresa\": {\n",
        "            \"cnpj\": \"84101722000122\",  \n",
        "            \"razão social\": \"CUBOBPM\",\n",
        "            \"nome fantasia\": \"CUBOBPM\",\n",
        "            \"cep \":\"74645010\",\n",
        "            \"endereco\":\"Avenida Independencia\",\n",
        "            \"numero\":\"12345\",\n",
        "            \"complemento\": \"Apartamento\",\n",
        "            \"bairro\": \"Vila Nova\",\n",
        "            \"municipio\": \"Goiânia\",\n",
        "            \"uf\": \"Goiás\",\n",
        "            \"empresafoinotificada\":\"Sim\"          \n",
        "            },\n",
        "\n",
        "\t\t\"caracteristicasdavaga\": {\n",
        "\n",
        "            \"permitircandidaturas\": \"Sim\",\n",
        "            \"permitircandiporlocal\": \"Sim\",\n",
        "            \"periododecandiinicio\":\"31/03/2022\",\n",
        "            \"períododecandifim:\":\"01/04/2022\",\n",
        "            \"cidadeestadooubairro\":\"Goiás\",\n",
        "            \"numerojovens\":\"10\",\n",
        "            \"cargooferecido\": \"Programador\",\n",
        "            \"genero\": \"Homem\",\n",
        "            \"faixaetariaminima\": \"18\",\n",
        "            \"faixaetariamaxima\": \"56\",\n",
        "            \"tercompletidademinimaate\": \"Sim\",\n",
        "            \"beneficios\": [\"Transporte\",\"Alimentação\",\"P Saúde\",\"P Odontológico\"],\n",
        "            \"condicoes\":[\"Insalubre\", \"Perigoso\"],\n",
        "            \"descricaodasatividades\": \"Vaga criada por robo (RPA)\"\n",
        "\n",
        "        },\n",
        "\t\t\"sobreocontrato\": {\n",
        "\n",
        "            \"datadacontratacao\": \"22/03/2022\",\n",
        "            \"remuneracao\": \"100000\",\n",
        "            \"vagadesubstuicao\":\"Sim\"\n",
        "        },\n",
        "\t\t\"dadosdaselecao\": {\n",
        "\n",
        "            \"dataselecao\": \"30/03/2022\",\n",
        "            \"nomedoresponsavel\":\"Carlos\",\n",
        "            \"cargo\": \"Programador\",\n",
        "            \"telefone\":\"62992542458\",\n",
        "            \"e-mail\":\"teste@gmail.com\",\n",
        "            \"localdeselecao\":\"Presencial\",\n",
        "            \"linkdareuniao\":\"www.teste.com\"\n",
        "\n",
        "        },\n",
        "\t\t\"perfiljovem\": {\n",
        "            \"tipocontrato\":\"Estágio\",\n",
        "            \"escolaridade\":\"Básico\",\n",
        "            \"serie\":\"N1\",\n",
        "            \"cursos\":[\"Programação\",\"Administração\"],\n",
        "            \"perfilcomportamental\":[\"Inovador\",\"Comunicativo\", \"Empatia\",\"Gostar de números\", \"Detalhista\"]\n",
        "\n",
        "        },\n",
        "\t\t\"provas\": {\n",
        "            \"queroaplicar\":\"Sim\",\n",
        "            \"provas\":[\"Português\", \"Matemática\"],\n",
        "            \"aplicarredacao\":\"Sim\",\n",
        "            \"temaredacao\":[\"teste\"]\n",
        "        }\n",
        "        \n",
        "\t  }\n",
        "\t]\n",
        "    \n",
        "}\n",
        "\n",
        "#resultado = requests.post(url, data = objeto)\n",
        "\n"
      ]
    },
    {
      "cell_type": "code",
      "source": [
        "json_str = json.dumps(objeto)\n"
      ],
      "metadata": {
        "id": "W9F-wCRbx5gv"
      },
      "execution_count": null,
      "outputs": []
    },
    {
      "cell_type": "code",
      "source": [
        "resposta = json.loads(json_str)\n"
      ],
      "metadata": {
        "id": "c6cMr_tMfU4o"
      },
      "execution_count": null,
      "outputs": []
    },
    {
      "cell_type": "code",
      "source": [
        "resposta['cadastrarvaga'][0]['perfiljovem']['perfilcomportamental']"
      ],
      "metadata": {
        "colab": {
          "base_uri": "https://localhost:8080/"
        },
        "id": "6gTPcVdzfwI1",
        "outputId": "614b55f7-a62d-4146-9785-ee135a6b5c92"
      },
      "execution_count": null,
      "outputs": [
        {
          "output_type": "execute_result",
          "data": {
            "text/plain": [
              "['Inovador', 'Comunicativo', 'Empatia', 'Gostar de números', 'Detalhista']"
            ]
          },
          "metadata": {},
          "execution_count": 82
        }
      ]
    }
  ]
}