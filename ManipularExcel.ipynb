{
  "nbformat": 4,
  "nbformat_minor": 0,
  "metadata": {
    "colab": {
      "name": "ManipularExcel.ipynb",
      "provenance": [],
      "authorship_tag": "ABX9TyO6LmkCSf+gQPPAslQTUJFB",
      "include_colab_link": true
    },
    "kernelspec": {
      "name": "python3",
      "display_name": "Python 3"
    },
    "language_info": {
      "name": "python"
    }
  },
  "cells": [
    {
      "cell_type": "markdown",
      "metadata": {
        "id": "view-in-github",
        "colab_type": "text"
      },
      "source": [
        "<a href=\"https://colab.research.google.com/github/jonaseal/manipularexcel/blob/main/ManipularExcel.ipynb\" target=\"_parent\"><img src=\"https://colab.research.google.com/assets/colab-badge.svg\" alt=\"Open In Colab\"/></a>"
      ]
    },
    {
      "cell_type": "code",
      "execution_count": null,
      "metadata": {
        "id": "zHzb3Z0FVG7Z"
      },
      "outputs": [],
      "source": [
        ""
      ]
    },
    {
      "cell_type": "code",
      "source": [
        "import pandas as pd\n",
        "from pandas.core.frame import DataFrame\n",
        "import numpy as np\n",
        "\n",
        "consolidado = 'Consolidado Contas Vencidas Risco Critico – 16-07-2021 10-51 AM.xlsx'\n",
        "\n"
      ],
      "metadata": {
        "id": "0bnK5ISXVdwY"
      },
      "execution_count": null,
      "outputs": []
    },
    {
      "cell_type": "code",
      "source": [
        "print(consolidado)"
      ],
      "metadata": {
        "colab": {
          "base_uri": "https://localhost:8080/"
        },
        "id": "NkKKojktV4UI",
        "outputId": "fedb8dba-a716-4361-bb00-d9c99fc3ddb0"
      },
      "execution_count": null,
      "outputs": [
        {
          "output_type": "stream",
          "name": "stdout",
          "text": [
            "Consolidado Contas Vencidas Risco Critico – 16-07-2021 10-51 AM.xlsx\n"
          ]
        }
      ]
    },
    {
      "cell_type": "code",
      "source": [
        "df_consolidado = pd.read_excel(consolidado)"
      ],
      "metadata": {
        "id": "a7U3D--ZWjtW"
      },
      "execution_count": null,
      "outputs": []
    },
    {
      "cell_type": "code",
      "source": [
        "Unidade = \"\"\n"
      ],
      "metadata": {
        "id": "COlSEP8-Yi9B"
      },
      "execution_count": null,
      "outputs": []
    },
    {
      "cell_type": "code",
      "source": [
        "for ind in df_consolidado.index:\n",
        "   if Unidade!=df_consolidado['Unidade'][ind]:\n",
        "      Unidade = df_consolidado['Unidade'][ind]\n",
        "      df_porunidade = df_consolidado.query('Unidade == @Unidade')\n",
        "      caminho = Unidade + \".xlsx\"\n",
        "      df_porunidade.to_excel(caminho)"
      ],
      "metadata": {
        "id": "KHUefhtJYmGZ"
      },
      "execution_count": null,
      "outputs": []
    }
  ]
}